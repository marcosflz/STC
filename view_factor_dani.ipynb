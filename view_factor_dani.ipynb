{
 "cells": [
  {
   "cell_type": "code",
   "execution_count": null,
   "metadata": {},
   "outputs": [
    {
     "data": {
      "text/plain": [
       "(False, '')"
      ]
     },
     "execution_count": 113,
     "metadata": {},
     "output_type": "execute_result"
    }
   ],
   "source": [
    "import pyviewfactor as pvf\n",
    "import pyvista as pv\n",
    "\n",
    "# Define geometries (esferas y plancha)\n",
    "def create_geometries():\n",
    "\n",
    "    # Obstrucción (si hay alguna, por ejemplo, otra esfera)\n",
    "    z_translation, r = 0.5, 0.1\n",
    "    \n",
    "    obstacle = pv.Circle(radius=r, resolution=10)\n",
    "    obstacle.translate([0, 0, z_translation], inplace=True)\n",
    "    \n",
    "    # Define line segment\n",
    "    start = rectangle_down.cell_centers().points[0]\n",
    "    stop = rectangle_up.cell_centers().points[0]\n",
    "    # Perform ray trace\n",
    "    points, ind = obstacle.ray_trace(start, stop)\n",
    "\n",
    "    # Create geometry to represent ray trace\n",
    "    ray = pv.Line(start, stop)\n",
    "    intersection = pv.PolyData(points)\n",
    "\n",
    "    return [obstacle, ray, intersection, rectangle_down, rectangle_up]\n",
    "\n",
    "obstacle, ray, intersection, rectangle_down, rectangle_up = create_geometries()\n",
    "\n",
    "F = pvf.compute_viewfactor(rectangle_down,rectangle_up)\n",
    "\n",
    "pvf.get_visibility(rectangle_up , rectangle_down)\n",
    "\n"
   ]
  },
  {
   "cell_type": "code",
   "execution_count": 1,
   "metadata": {},
   "outputs": [],
   "source": [
    "import pyvista as pv\n",
    "import numpy as np\n",
    "import pyviewfactor as pvf \n",
    "from pyviewfactor import get_visibility_raytrace\n",
    "from pyviewfactor import  compute_viewfactor, fc_unstruc2poly\n",
    "\n",
    "Altura = 6678000\n",
    "Radio = 6378000"
   ]
  },
  {
   "cell_type": "code",
   "execution_count": 2,
   "metadata": {},
   "outputs": [
    {
     "name": "stderr",
     "output_type": "stream",
     "text": [
      "d:\\Documentos\\VSCODE\\STC\\.venv\\Lib\\site-packages\\pyvista\\core\\utilities\\points.py:55: UserWarning: Points is not a float type. This can cause issues when transforming or applying filters. Casting to ``np.float32``. Disable this by passing ``force_float=False``.\n",
      "  warnings.warn(\n"
     ]
    }
   ],
   "source": [
    "# Plancha (línea en 3D)\n",
    "\n",
    "pointa = [0, Altura - 1, -1]\n",
    "pointb = [0, Altura + 1, 1]\n",
    "pointc = [0, Altura + 1, -1]\n",
    "    \n",
    "liste_pts = [pointa, pointb, pointc]\n",
    "liste_pts.reverse()\n",
    "    \n",
    "rectangle_normal = pv.Rectangle([pointa, pointb, pointc])\n",
    "rectangle_inverso = pv.Rectangle(liste_pts)\n",
    "\n",
    "esfera_satelite = pv.SolidSphere(outer_radius = 1, center=(-1.5, Altura, 0), start_theta=0, end_theta=360)\n",
    "esfera_satelite_surface = esfera_satelite.extract_surface()\n",
    "\n",
    "start = [0, 0, 0]  # Centro de la Tierra\n",
    "end = [0, Altura, 0]    # Centro del satélite\n",
    "flecha = pv.Arrow(start=start, direction=[end[0] - start[0], end[1] - start[1], end[2] - start[2]], scale=0.5)\n",
    "\n",
    "# create a raw sphere with pyvista\n",
    "Tierra = pv.Sphere(radius = Radio, center=(0, 0, 0), direction=(0, 0, 1), theta_resolution=50, phi_resolution=50)"
   ]
  },
  {
   "cell_type": "code",
   "execution_count": 5,
   "metadata": {},
   "outputs": [
    {
     "ename": "NameError",
     "evalue": "name 'rectangle_up' is not defined",
     "output_type": "error",
     "traceback": [
      "\u001b[1;31m---------------------------------------------------------------------------\u001b[0m",
      "\u001b[1;31mNameError\u001b[0m                                 Traceback (most recent call last)",
      "Cell \u001b[1;32mIn[5], line 8\u001b[0m\n\u001b[0;32m      5\u001b[0m circular_face \u001b[38;5;241m=\u001b[39m esfera_satelite\u001b[38;5;241m.\u001b[39mextract_cells(i)\n\u001b[0;32m      6\u001b[0m circular_face \u001b[38;5;241m=\u001b[39m fc_unstruc2poly(circular_face) \u001b[38;5;66;03m# convert to PolyData\u001b[39;00m\n\u001b[1;32m----> 8\u001b[0m \u001b[38;5;28;01mif\u001b[39;00m pvf\u001b[38;5;241m.\u001b[39mget_visibility_raytrace(\u001b[43mrectangle_up\u001b[49m, circular_face, rectangle_down) :\n\u001b[0;32m      9\u001b[0m     F[i] \u001b[38;5;241m=\u001b[39m compute_viewfactor(circular_face, rectangle_up)\n\u001b[0;32m     10\u001b[0m \u001b[38;5;28;01melse\u001b[39;00m:\n",
      "\u001b[1;31mNameError\u001b[0m: name 'rectangle_up' is not defined"
     ]
    }
   ],
   "source": [
    "# \"one array to contain them all\" -> the results will be stored there\n",
    "F = np.zeros(esfera_satelite.n_cells)\n",
    "\n",
    "for i in range(esfera_satelite.n_cells):\n",
    "    circular_face = esfera_satelite.extract_cells(i)\n",
    "    circular_face = fc_unstruc2poly(circular_face) # convert to PolyData\n",
    "    \n",
    "    if pvf.get_visibility_raytrace(rectangle_up, circular_face, rectangle_down) :\n",
    "        F[i] = compute_viewfactor(circular_face, rectangle_up)\n",
    "    else:\n",
    "        F[i] = 0.0\n",
    "    "
   ]
  },
  {
   "cell_type": "code",
   "execution_count": 116,
   "metadata": {},
   "outputs": [],
   "source": [
    "# put the scalar values in the geometry\n",
    "sphere.cell_data[\"F\"] = F\n",
    "sphere.save(\"./sphere.vtk\") # ... and save."
   ]
  },
  {
   "cell_type": "code",
   "execution_count": 212,
   "metadata": {},
   "outputs": [
    {
     "data": {
      "application/vnd.jupyter.widget-view+json": {
       "model_id": "703951e87d594d149a491adfadf1864c",
       "version_major": 2,
       "version_minor": 0
      },
      "text/plain": [
       "Widget(value='<iframe src=\"http://localhost:56068/index.html?ui=P_0x22d35f13e10_69&reconnect=auto\" class=\"pyvi…"
      ]
     },
     "metadata": {},
     "output_type": "display_data"
    }
   ],
   "source": [
    "# Render the result\n",
    "p = pv.Plotter(notebook=True)\n",
    "p.add_mesh(rectangle_normal, show_edges=True, opacity=0.5, color=\"red\", lighting=False, label=\"rectangle\")\n",
    "p.add_mesh(Tierra, color=\"yellow\", line_width=5,opacity=0.5, label=\"rect down\")\n",
    "p.add_mesh(esfera_satelite_surface, color=\"green\", line_width=5, label=\"ray trace\")\n",
    "#p.add_mesh(sphere, scalars='F', cmap='jet') # add mesh with a nice color scheme\n",
    "\n",
    "p.show()"
   ]
  },
  {
   "cell_type": "code",
   "execution_count": null,
   "metadata": {},
   "outputs": [],
   "source": []
  }
 ],
 "metadata": {
  "kernelspec": {
   "display_name": ".venv",
   "language": "python",
   "name": "python3"
  },
  "language_info": {
   "codemirror_mode": {
    "name": "ipython",
    "version": 3
   },
   "file_extension": ".py",
   "mimetype": "text/x-python",
   "name": "python",
   "nbconvert_exporter": "python",
   "pygments_lexer": "ipython3",
   "version": "3.12.4"
  }
 },
 "nbformat": 4,
 "nbformat_minor": 2
}
